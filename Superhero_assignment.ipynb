{
  "nbformat": 4,
  "nbformat_minor": 0,
  "metadata": {
    "colab": {
      "provenance": []
    },
    "kernelspec": {
      "name": "python3",
      "display_name": "Python 3"
    },
    "language_info": {
      "name": "python"
    }
  },
  "cells": [
    {
      "cell_type": "code",
      "source": [
        "import sqlite3\n",
        "\n",
        "# Create a connection to the SQLite database\n",
        "conn = sqlite3.connect(\"superhero_db.sqlite\")\n",
        "\n",
        "# Create a cursor object to execute SQL commands\n",
        "cursor = conn.cursor()\n"
      ],
      "metadata": {
        "id": "_7ltoRru6wiY"
      },
      "execution_count": 2,
      "outputs": []
    },
    {
      "cell_type": "code",
      "source": [
        "# Creating tables\n",
        "cursor.executescript('''\n",
        "CREATE TABLE IF NOT EXISTS heroes (\n",
        "    id INTEGER PRIMARY KEY AUTOINCREMENT,\n",
        "    name TEXT NOT NULL UNIQUE,\n",
        "    power TEXT NOT NULL,\n",
        "    team TEXT\n",
        ");\n",
        "\n",
        "CREATE TABLE IF NOT EXISTS villains (\n",
        "    id INTEGER PRIMARY KEY AUTOINCREMENT,\n",
        "    name TEXT NOT NULL UNIQUE,\n",
        "    evil_plan TEXT NOT NULL\n",
        ");\n",
        "\n",
        "CREATE TABLE IF NOT EXISTS battles (\n",
        "    id INTEGER PRIMARY KEY AUTOINCREMENT,\n",
        "    hero_id INTEGER NOT NULL,\n",
        "    villain_id INTEGER NOT NULL,\n",
        "    outcome TEXT NOT NULL CHECK (outcome IN ('Win', 'Loss', 'Draw')),\n",
        "    FOREIGN KEY (hero_id) REFERENCES heroes(id),\n",
        "    FOREIGN KEY (villain_id) REFERENCES villains(id)\n",
        ");\n",
        "''')\n",
        "\n",
        "# Commit and close connection\n",
        "conn.commit()\n",
        "conn.close()\n"
      ],
      "metadata": {
        "id": "t4t_e2nk6xLr"
      },
      "execution_count": 3,
      "outputs": []
    },
    {
      "cell_type": "code",
      "source": [
        "import sqlite3\n",
        "import pandas as pd\n",
        "\n",
        "heroes_df = pd.read_csv(\"heroes.csv\")\n",
        "villains_df = pd.read_csv(\"villains.csv\")\n",
        "battles_df = pd.read_csv(\"battles.csv\")"
      ],
      "metadata": {
        "id": "LHDDp0ht6zAF"
      },
      "execution_count": 4,
      "outputs": []
    },
    {
      "cell_type": "code",
      "source": [
        "# Connect to the database\n",
        "conn = sqlite3.connect(\"superhero_db.sqlite\")\n",
        "cursor = conn.cursor()\n",
        "\n",
        "# Insert heroes data\n",
        "heroes_df.to_sql(\"heroes\", conn, if_exists=\"replace\", index=False)\n",
        "\n",
        "# Insert villains data\n",
        "villains_df.to_sql(\"villains\", conn, if_exists=\"replace\", index=False)\n",
        "\n",
        "# Insert battles data\n",
        "battles_df.to_sql(\"battles\", conn, if_exists=\"replace\", index=False)\n",
        "\n",
        "# Commit changes and close connection\n",
        "conn.commit()\n",
        "conn.close()\n"
      ],
      "metadata": {
        "id": "x0fsF1p467xT"
      },
      "execution_count": 6,
      "outputs": []
    },
    {
      "cell_type": "code",
      "source": [
        "conn = sqlite3.connect(\"superhero_db.sqlite\")\n",
        "\n",
        "query_heroes = \"SELECT name, power FROM heroes\"\n",
        "heroes_data = pd.read_sql(query_heroes, conn)\n",
        "\n",
        "print(heroes_data)\n",
        "\n",
        "query_won_battles = \"\"\"\n",
        "SELECT h.name AS hero_name, v.name AS villain_name, b.outcome\n",
        "FROM battles b\n",
        "JOIN heroes h ON b.hero_id = h.id\n",
        "JOIN villains v ON b.villain_id = v.id\n",
        "WHERE b.outcome = 'Hero Wins'\n",
        "\"\"\"\n",
        "won_battles_data = pd.read_sql(query_won_battles, conn)\n",
        "\n",
        "print(won_battles_data)\n",
        "\n",
        "query_villains = \"SELECT name, evil_plan FROM villains\"\n",
        "villains_data = pd.read_sql(query_villains, conn)\n",
        "\n",
        "print(villains_data)\n",
        "\n",
        "query_most_battles = \"\"\"\n",
        "SELECT h.name AS hero_name, COUNT(b.id) AS battle_count\n",
        "FROM battles b\n",
        "JOIN heroes h ON b.hero_id = h.id\n",
        "GROUP BY h.name\n",
        "ORDER BY battle_count DESC\n",
        "LIMIT 1\n",
        "\"\"\"\n",
        "most_battles_data = pd.read_sql(query_most_battles, conn)\n",
        "\n",
        "print(most_battles_data)\n",
        "\n",
        "conn.close()"
      ],
      "metadata": {
        "colab": {
          "base_uri": "https://localhost:8080/"
        },
        "id": "w9hWJjEK7HpI",
        "outputId": "fccc4179-ec9c-4180-b6cc-7b2d3220d96c"
      },
      "execution_count": 12,
      "outputs": [
        {
          "output_type": "stream",
          "name": "stdout",
          "text": [
            "             name               power\n",
            "0      Spider-Man        Web-slinging\n",
            "1        Iron Man       Powered Armor\n",
            "2          Batman    Genius Detective\n",
            "3        Superman      Super Strength\n",
            "4            Thor      God of Thunder\n",
            "5    Wonder Woman  Amazonian Strength\n",
            "6   Black Panther    Enhanced Agility\n",
            "7       The Flash         Super Speed\n",
            "8            Hulk      Super Strength\n",
            "9  Doctor Strange         Mystic Arts\n",
            "       hero_name villain_name    outcome\n",
            "0           Hulk        Joker  Hero Wins\n",
            "1     Spider-Man     Darkseid  Hero Wins\n",
            "2           Hulk        Venom  Hero Wins\n",
            "3         Batman       Thanos  Hero Wins\n",
            "4  Black Panther         Loki  Hero Wins\n",
            "5      The Flash      Magneto  Hero Wins\n",
            "6         Batman   Lex Luthor  Hero Wins\n",
            "7         Batman         Loki  Hero Wins\n",
            "8           Thor         Loki  Hero Wins\n",
            "           name                           evil_plan\n",
            "0  Green Goblin                  Terrorize New York\n",
            "1        Thanos         Collect all Infinity Stones\n",
            "2         Joker              Spread chaos in Gotham\n",
            "3    Lex Luthor                     Defeat Superman\n",
            "4          Loki  Trick humanity into worshiping him\n",
            "5        Ultron                 AI world domination\n",
            "6      Darkseid                Control the universe\n",
            "7         Venom                  Consume Spider-Man\n",
            "8       Magneto                    Mutant supremacy\n",
            "9     Red Skull                        Revive Hydra\n",
            "  hero_name  battle_count\n",
            "0    Batman             7\n"
          ]
        }
      ]
    },
    {
      "cell_type": "code",
      "source": [
        "import sqlite3\n",
        "\n",
        "# Connect to the database\n",
        "conn = sqlite3.connect(\"superhero_db.sqlite\")\n",
        "cursor = conn.cursor()\n",
        "\n",
        "# Create a new table for villain hideouts\n",
        "cursor.execute('''\n",
        "CREATE TABLE IF NOT EXISTS villain_hideouts (\n",
        "    id INTEGER PRIMARY KEY AUTOINCREMENT,\n",
        "    villain_id INTEGER NOT NULL,\n",
        "    hideout TEXT NOT NULL,\n",
        "    FOREIGN KEY (villain_id) REFERENCES villains(id)\n",
        ");\n",
        "''')\n",
        "conn.commit()\n",
        "conn.close()\n"
      ],
      "metadata": {
        "id": "guSLDJyC7rKN"
      },
      "execution_count": 13,
      "outputs": []
    },
    {
      "cell_type": "code",
      "source": [
        "conn = sqlite3.connect(\"superhero_db.sqlite\")\n",
        "cursor = conn.cursor()\n",
        "\n",
        "# Insert sample hideouts for villains\n",
        "hideout_data = [\n",
        "    (1, \"Green Goblin's Lab\"),\n",
        "    (2, \"Lex Luthor's Tower\"),\n",
        "    (3, \"The Joker's Funhouse\"),\n",
        "    (4, \"Doctor Doom's Castle\"),\n",
        "    (5, \"Thanos' Sanctuary\"),\n",
        "    (6, \"Red Skull's Hydra Base\"),\n",
        "    (7, \"Darkseid's Apokolips\"),\n",
        "    (8, \"Galactus' Asteroid\"),\n",
        "    (9, \"Magneto's Fortress\"),\n",
        "    (10, \"Ra's al Ghul's Lair\"),\n",
        "]\n",
        "\n",
        "# Insert data into the table\n",
        "cursor.executemany(\"INSERT INTO villain_hideouts (villain_id, hideout) VALUES (?, ?)\", hideout_data)\n",
        "\n",
        "# Commit and close connection\n",
        "conn.commit()\n",
        "conn.close()"
      ],
      "metadata": {
        "id": "AUa425998Esw"
      },
      "execution_count": 14,
      "outputs": []
    },
    {
      "cell_type": "code",
      "source": [
        "conn = sqlite3.connect(\"superhero_db.sqlite\")\n",
        "\n",
        "# Query to retrieve villains and their hideouts\n",
        "query_hideouts = \"\"\"\n",
        "SELECT v.name AS villain_name, h.hideout\n",
        "FROM villain_hideouts h\n",
        "JOIN villains v ON h.villain_id = v.id\n",
        "\"\"\"\n",
        "\n",
        "villain_hideouts_data = pd.read_sql(query_hideouts, conn)\n",
        "\n",
        "print(villain_hideouts_data)\n",
        "\n",
        "conn.close()"
      ],
      "metadata": {
        "colab": {
          "base_uri": "https://localhost:8080/"
        },
        "id": "qE6VfhRv8SV5",
        "outputId": "1f3c4b76-1461-413d-fd88-7fe503dc246d"
      },
      "execution_count": 15,
      "outputs": [
        {
          "output_type": "stream",
          "name": "stdout",
          "text": [
            "   villain_name                 hideout\n",
            "0  Green Goblin      Green Goblin's Lab\n",
            "1        Thanos      Lex Luthor's Tower\n",
            "2         Joker    The Joker's Funhouse\n",
            "3    Lex Luthor    Doctor Doom's Castle\n",
            "4          Loki       Thanos' Sanctuary\n",
            "5        Ultron  Red Skull's Hydra Base\n",
            "6      Darkseid    Darkseid's Apokolips\n",
            "7         Venom      Galactus' Asteroid\n",
            "8       Magneto      Magneto's Fortress\n",
            "9     Red Skull     Ra's al Ghul's Lair\n"
          ]
        }
      ]
    }
  ]
}